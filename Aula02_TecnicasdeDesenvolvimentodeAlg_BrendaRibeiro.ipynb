{
  "nbformat": 4,
  "nbformat_minor": 0,
  "metadata": {
    "colab": {
      "provenance": [],
      "authorship_tag": "ABX9TyPAsNWzqTmsVBne7xHMdKYP",
      "include_colab_link": true
    },
    "kernelspec": {
      "name": "python3",
      "display_name": "Python 3"
    },
    "language_info": {
      "name": "python"
    }
  },
  "cells": [
    {
      "cell_type": "markdown",
      "metadata": {
        "id": "view-in-github",
        "colab_type": "text"
      },
      "source": [
        "<a href=\"https://colab.research.google.com/github/BrendaRibss/tecnicasdedesenvolvimentodealg_BrendaRibeiro/blob/main/Aula02_TecnicasdeDesenvolvimentodeAlg_BrendaRibeiro.ipynb\" target=\"_parent\"><img src=\"https://colab.research.google.com/assets/colab-badge.svg\" alt=\"Open In Colab\"/></a>"
      ]
    },
    {
      "cell_type": "code",
      "execution_count": null,
      "metadata": {
        "colab": {
          "base_uri": "https://localhost:8080/"
        },
        "id": "823GRBuXOHL7",
        "outputId": "4c4361e3-139f-4a53-e059-da6b17cc1d91"
      },
      "outputs": [
        {
          "output_type": "stream",
          "name": "stdout",
          "text": [
            "Informe um número real:1\n",
            "O número informado é menor que 10\n"
          ]
        }
      ],
      "source": [
        "# 1.  Elabore um programa que solicite ao usuário um número real e ao final imprima na tela se o número informado é maior que 10 (dez)\n",
        "\n",
        "num =float(input(\"Informe um número real:\"))\n",
        "\n",
        "if num > 10:\n",
        "  print(\"O número informado é maior que 10!\")\n",
        "\n",
        "else:\n",
        "  print(\"O número informado é menor que 10\")"
      ]
    },
    {
      "cell_type": "code",
      "source": [
        "# 2.  Escreva um programa que solicite ao usuário um número real e ao final imprima na tela se o número informado é maior ou igual a dez ou menor que 10 (dez)\n",
        "\n",
        "num =float(input(\"Informe um número real:\"))\n",
        "\n",
        "if num >= 10:\n",
        "  print(\"O número informado é maior ou igual a que 10!\")\n",
        "\n",
        "else:\n",
        "  print(\"O número informado é menor que 10\")"
      ],
      "metadata": {
        "colab": {
          "base_uri": "https://localhost:8080/"
        },
        "id": "jjn3IQmUOrK8",
        "outputId": "3fd56c24-814e-4084-dd95-fb7bc88f0343"
      },
      "execution_count": null,
      "outputs": [
        {
          "output_type": "stream",
          "name": "stdout",
          "text": [
            "Informe um número real:10\n",
            "O número informado é maior que 10!\n"
          ]
        }
      ]
    },
    {
      "cell_type": "code",
      "source": [
        "# 3.  Elabore um algoritmo que solicite ao usuário um número real e ao final imprima na tela se o número informado é maior que dez, se é menor que dez, ou se é igual a dez\n",
        "\n",
        "num= float(input(\"Informe um número real\"))\n",
        "\n",
        "if num >10:\n",
        "  print(\"O número é maior que 10!\")\n",
        "\n",
        "elif num == 10:\n",
        "  print(\"O número informado corresponde a 10!\")\n",
        "\n",
        "else:\n",
        "  print(\"O número é menor que 10!\")"
      ],
      "metadata": {
        "colab": {
          "base_uri": "https://localhost:8080/"
        },
        "id": "2JsKcix7RGGl",
        "outputId": "e795ccbe-597d-4bed-ac0a-a5d936b92919"
      },
      "execution_count": null,
      "outputs": [
        {
          "output_type": "stream",
          "name": "stdout",
          "text": [
            "Informe um número real15.15\n",
            "O número é maior que 10!\n"
          ]
        }
      ]
    },
    {
      "cell_type": "code",
      "source": [
        "#4. Elabore um algoritmo que solicite ao usuário um número real e ao final imprima na tela se o número informado é positivo, negativo ou nulo (zero)\n",
        "\n",
        "num=float(input(\"Informe um número real:\"))\n",
        "\n",
        "if num >0:\n",
        "  print(\"O número é positivo!\")\n",
        "\n",
        "elif num <0:\n",
        "  print(\"O número é negativo!\")\n",
        "\n",
        "elif num ==0:\n",
        "  print(\"O número informado é nulo, ou seja, corresponde a 0!\")"
      ],
      "metadata": {
        "colab": {
          "base_uri": "https://localhost:8080/"
        },
        "id": "4L3KoeUcR-fF",
        "outputId": "7e1e2502-1687-46c5-e1f2-97a2e6528447"
      },
      "execution_count": null,
      "outputs": [
        {
          "output_type": "stream",
          "name": "stdout",
          "text": [
            "Informe um número real:0\n",
            "O número informado é nulo, ou seja, corresponde a 0!\n"
          ]
        }
      ]
    },
    {
      "cell_type": "code",
      "source": [
        "#5. Elabore um algoritmo que leia um número inteiro e imprima uma das mensagens: é múltiplo de 3, ou, não é múltiplo de 3\n",
        "\n",
        "numero = int(input(\"Digite um número inteiro: \"))\n",
        "\n",
        "if numero % 3 == 0:\n",
        "    print(\"É múltiplo de 3\")\n",
        "else:\n",
        "    print(\"Não é múltiplo de 3\")\n"
      ],
      "metadata": {
        "id": "ZmMOhzMoTPSh"
      },
      "execution_count": null,
      "outputs": []
    },
    {
      "cell_type": "code",
      "source": [
        "#6. Refazer o exercício anterior, solicitando antes o múltiplo a ser testado\n",
        "\n",
        "num = int(input(\"Digite um número inteiro: \"))\n",
        "mult = int(input(\"Digite o múltiplo a ser testado: \"))\n",
        "\n",
        "if num % mult == 0:\n",
        "  print(f\"O número {num} é múltiplo de {mult}.\")\n"
      ],
      "metadata": {
        "colab": {
          "base_uri": "https://localhost:8080/"
        },
        "id": "Pq4LgeB8Tv2Q",
        "outputId": "1d80c112-92e7-4582-b41c-db7f1607357b"
      },
      "execution_count": null,
      "outputs": [
        {
          "output_type": "stream",
          "name": "stdout",
          "text": [
            "Digite um número inteiro: 6\n",
            "Digite o múltiplo a ser testado: 3\n",
            "O número 6 é múltiplo de 3.\n"
          ]
        }
      ]
    },
    {
      "cell_type": "code",
      "source": [
        "#7. Desenvolva um algoritmo que classifique um número inteiro fornecido pelo usuário como par ou ímpar\n",
        "\n",
        "num = int(input(\"Digite um número inteiro: \"))\n",
        "\n",
        "if num % 2 == 0:\n",
        "    print(f\"{num} é par!\")\n",
        "else:\n",
        "    print(f\"{num} é ímpar!\")"
      ],
      "metadata": {
        "id": "4b92_DyCVECK"
      },
      "execution_count": null,
      "outputs": []
    },
    {
      "cell_type": "code",
      "source": [
        "# 8. Elabore um algoritmo que leia um número, e se ele for maior do que 20, imprimir a metade desse número, caso contrário, imprimir o dobro do número\n",
        "\n",
        "numero = float(input(\"Digite um número: \"))\n",
        "\n",
        "if numero > 20:\n",
        "    resultado = numero / 2\n",
        "    print(f\"O número é maior que 20. Metade: {resultado}\")\n",
        "else:\n",
        "    resultado = numero * 2\n",
        "    print(f\"O número é 20 ou menor. Dobro: {resultado}\")\n"
      ],
      "metadata": {
        "colab": {
          "base_uri": "https://localhost:8080/"
        },
        "id": "ZJzFNG2bVewZ",
        "outputId": "0dd60d9f-1dab-43bb-cea8-00a5859d7eb1"
      },
      "execution_count": null,
      "outputs": [
        {
          "output_type": "stream",
          "name": "stdout",
          "text": [
            "Digite um número: 40\n",
            "O número é maior que 20. Metade: {resultado}\n"
          ]
        }
      ]
    },
    {
      "cell_type": "code",
      "source": [
        "#9. Elabore um algoritmo que leia dois números inteiros e realize a adição; caso o resultado seja maior que 10, imprima o quadrado do resultado, caso contrário, imprima a metade dele\n",
        "\n",
        "num1= int(input(\"Informe o primeiro número:\"))\n",
        "num2= int(input(\"Informe o primeiro número:\"))\n",
        "\n",
        "soma= (num1 + num2)\n",
        "\n",
        "if soma > 10:\n",
        "    print(f\"A soma é {soma}, que é maior que 10. O quadrado da soma é {soma ** 2}.\")\n",
        "else:\n",
        "    print(f\"A soma é {soma}, que é 10 ou menor. A metade da soma é {soma / 2}.\")"
      ],
      "metadata": {
        "id": "0m1HiZv-WuFx"
      },
      "execution_count": null,
      "outputs": []
    },
    {
      "cell_type": "code",
      "source": [
        "#10. O sistema de avaliação de determinada disciplina é composto por três provas. A primeira prova tem peso 2, a segunda tem peso 3 e a terceira tem peso 5. Considerando que a média para aprovação é 6.0, faça um algoritmo para calcular a média final de um aluno desta disciplina e dizer se o aluno foi aprovado ou não\n",
        "\n",
        "prova1 = float(input(\"Informe a nota da primeira prova (peso 2): \"))\n",
        "prova2 = float(input(\"Informe a nota da segunda prova (peso 3): \"))\n",
        "prova3 = float(input(\"Informe a nota da terceira prova (peso 5): \"))\n",
        "\n",
        "peso1 = 2\n",
        "peso2 = 3\n",
        "peso3 = 5\n",
        "media = (prova1 * peso1 + prova2 * peso2 + prova3 * peso3) / (peso1 + peso2 + peso3)\n",
        "\n",
        "print(f\"Média final: {media:.2f}\")\n",
        "if media >= 6.0:\n",
        "    print(\"Aluno aprovado!\")\n",
        "else:\n",
        "    print(\"Aluno reprovado!\")"
      ],
      "metadata": {
        "id": "A4NwyCzxXaOP"
      },
      "execution_count": null,
      "outputs": []
    },
    {
      "cell_type": "code",
      "source": [
        "#11. Elabore um algoritmo que leia o nome e o peso de duas pessoas e imprima o nome da pessoa mais pesada\n",
        "\n",
        "nome1 = input(\"Digite o nome da primeira pessoa: \")\n",
        "peso1 = float(input(f\"Digite o peso de {nome1} (kg): \"))\n",
        "\n",
        "nome2 = input(\"Digite o nome da segunda pessoa: \")\n",
        "peso2 = float(input(f\"Digite o peso de {nome2} (kg): \"))\n",
        "\n",
        "if peso1 > peso2:\n",
        "    print(f\"{nome1} é a pessoa mais pesada, com {peso1} kg.\")\n",
        "elif peso2 > peso1:\n",
        "    print(f\"{nome2} é a pessoa mais pesada, com {peso2} kg.\")\n",
        "else:\n",
        "    print(f\"{nome1} e {nome2} têm o mesmo peso, {peso1} kg.\")"
      ],
      "metadata": {
        "id": "rh1dQq9AXum5"
      },
      "execution_count": null,
      "outputs": []
    },
    {
      "cell_type": "code",
      "source": [
        "#12. Elabore um algoritmo que indique se um número digitado está compreendido entre 20 e 90, ou não\n",
        "\n",
        "numero = float(input(\"Digite um número: \"))\n",
        "\n",
        "if 20 <= numero <= 90:\n",
        "    print(f\"O número {numero} está compreendido entre 20 e 90.\")\n",
        "else:\n",
        "    print(f\"O número {numero} NÃO está compreendido entre 20 e 90.\")"
      ],
      "metadata": {
        "id": "vOL-in8oX7s9"
      },
      "execution_count": null,
      "outputs": []
    },
    {
      "cell_type": "code",
      "source": [
        "#13. num1 = float(input(\"Digite o primeiro número: \"))\n",
        "\n",
        "num2 = float(input(\"Digite o segundo número: \"))\n",
        "\n",
        "if num1 > num2:\n",
        "    print(f\"{num1} é maior que {num2}\")\n",
        "elif num2 > num1:\n",
        "    print(f\"{num2} é maior que {num1}\")\n",
        "else:\n",
        "    print(\"Os dois números são iguais.\")"
      ],
      "metadata": {
        "id": "wQE3VYVPYOJa"
      },
      "execution_count": null,
      "outputs": []
    },
    {
      "cell_type": "code",
      "source": [
        "'''14.  Escreva um programa em linguagem C que solicite ao usuário a média para aprovação em um curso e em seguida solicite ao usuário o nome, sexo e as 03 notas do aluno e ao final imprima a frase: \"O aluno XXXXX foi aprovado com media YY\" considerando o gênero do(a) aluno(a) e se foi aprovado(a) ou reprovado(a)\n",
        "'''\n",
        "\n",
        "code = r'''\n",
        "#include <stdio.h>\n",
        "\n",
        "int main() {\n",
        "    float media_aprovacao, nota1, nota2, nota3, media;\n",
        "    char nome[50];\n",
        "    char sexo;\n",
        "\n",
        "    printf(\"Digite a media para aprovacao: \");\n",
        "    scanf(\"%f\", &media_aprovacao);\n",
        "\n",
        "    printf(\"Digite o nome do aluno: \");\n",
        "    scanf(\"%s\", nome);\n",
        "\n",
        "    printf(\"Digite o sexo do aluno (M/F): \");\n",
        "    scanf(\" %c\", &sexo);\n",
        "\n",
        "    printf(\"Digite as 3 notas do aluno: \");\n",
        "    scanf(\"%f %f %f\", &nota1, &nota2, &nota3);\n",
        "\n",
        "    media = (nota1 + nota2 + nota3) / 3.0;\n",
        "\n",
        "    if (media >= media_aprovacao) {\n",
        "        if (sexo == 'M' || sexo == 'm') {\n",
        "            printf(\"O aluno %s foi aprovado com media %.2f\\n\", nome, media);\n",
        "        } else {\n",
        "            printf(\"A aluna %s foi aprovada com media %.2f\\n\", nome, media);\n",
        "        }\n",
        "    } else {\n",
        "        if (sexo == 'M' || sexo == 'm') {\n",
        "            printf(\"O aluno %s foi reprovado com media %.2f\\n\", nome, media);\n",
        "        } else {\n",
        "            printf(\"A aluna %s foi reprovada com media %.2f\\n\", nome, media);\n",
        "        }\n",
        "    }\n",
        "\n",
        "    return 0;\n",
        "}\n",
        "'''\n",
        "\n",
        "\n",
        "with open(\"aluno.c\", \"w\") as f:\n",
        "    f.write(code)\n",
        "\n",
        "\n",
        "!gcc aluno.c -o aluno\n",
        "\n",
        "\n",
        "!./aluno"
      ],
      "metadata": {
        "colab": {
          "base_uri": "https://localhost:8080/"
        },
        "id": "r7vicj7MYWMb",
        "outputId": "daf197b9-e1b3-4812-9d73-6b7b58683516"
      },
      "execution_count": null,
      "outputs": [
        {
          "output_type": "stream",
          "name": "stdout",
          "text": [
            "Digite a media para aprovacao: ^C\n"
          ]
        }
      ]
    }
  ]
}